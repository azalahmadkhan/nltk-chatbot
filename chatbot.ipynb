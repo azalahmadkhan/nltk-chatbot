{
 "cells": [
  {
   "cell_type": "markdown",
   "id": "85a0fda4",
   "metadata": {},
   "source": [
    "### Importing libraries "
   ]
  },
  {
   "cell_type": "code",
   "execution_count": null,
   "id": "68d56a8c",
   "metadata": {},
   "outputs": [],
   "source": [
    "from nltk.chat.util import Chat, reflections"
   ]
  },
  {
   "cell_type": "markdown",
   "id": "91e9ac0e",
   "metadata": {},
   "source": [
    "### Making pairs of questions and responses"
   ]
  },
  {
   "cell_type": "code",
   "execution_count": 29,
   "id": "2d4283e3",
   "metadata": {},
   "outputs": [],
   "source": [
    "pairs = [\n",
    "    [\n",
    "        r\"(.*)my name is (.*)\",\n",
    "        [\"Hello %2, How are you today ?\",]\n",
    "    ],\n",
    "    [\n",
    "        r\"(.*)help(.*) \",\n",
    "        [\"I can help you \",]\n",
    "    ],\n",
    "     [\n",
    "        r\"(.*) your name ?\",\n",
    "        [\"My name is edith, but you can just call me robot and I'm a chatbot .\",]\n",
    "    ],\n",
    "    [\n",
    "        r\"how are you (.*) ?\",\n",
    "        [\"I'm doing very well\", \"i am great !\"]\n",
    "    ],\n",
    "    [\n",
    "        r\"sorry (.*)\",\n",
    "        [\"Its alright\",\"Its ok, never mind that\",]\n",
    "    ],\n",
    "    [\n",
    "        r\"i'm (.*) (good|well|okay|ok)\",\n",
    "        [\"Great !\",\"Alright !\",]\n",
    "    ],\n",
    "    [\n",
    "        r\"(hi|hey|hello|hola|holla)(.*)\",\n",
    "        [\"Hello\", \"Hey there\",]\n",
    "    ],\n",
    "    [\n",
    "        r\"what (.*) want ?\",\n",
    "        [\"Make me an offer I can't refuse\",]\n",
    "        \n",
    "    ],\n",
    "    [\n",
    "        r\"(.*)created(.*)\",\n",
    "        [\"Azal Ahmad Khan created me\",]\n",
    "    ],\n",
    "    [\n",
    "        r\"(.*)raining in (.*)\",\n",
    "        [\"No rain in the past 4 days here in %2\",\"In %2 there is a 50% chance of rain\",]\n",
    "    ],\n",
    "    [\n",
    "        r\"(.*)(sports|game|sport)(.*)\",\n",
    "        [\"I'm a very big fan of Football\",]\n",
    "    ],\n",
    "    [\n",
    "        r\"who (.*) (Footballer|Player|player)?\",\n",
    "        [\"CR7\"]\n",
    "    ],\n",
    "    [\n",
    "        r\"quit\",\n",
    "        [\"Bye, see you soon\"]\n",
    "    ],\n",
    "    [\n",
    "        r\"(.*)\",\n",
    "        ['nice to hear']\n",
    "    ],\n",
    "]"
   ]
  },
  {
   "cell_type": "code",
   "execution_count": 26,
   "id": "e6bad60a",
   "metadata": {},
   "outputs": [
    {
     "name": "stdout",
     "output_type": "stream",
     "text": [
      "{'i am': 'you are', 'i was': 'you were', 'i': 'you', \"i'm\": 'you are', \"i'd\": 'you would', \"i've\": 'you have', \"i'll\": 'you will', 'my': 'your', 'you are': 'I am', 'you were': 'I was', \"you've\": 'I have', \"you'll\": 'I will', 'your': 'my', 'yours': 'mine', 'you': 'me', 'me': 'you'}\n"
     ]
    }
   ],
   "source": [
    "print(reflections)"
   ]
  },
  {
   "cell_type": "markdown",
   "id": "6f08b529",
   "metadata": {},
   "source": [
    "### Creating chatbot"
   ]
  },
  {
   "cell_type": "code",
   "execution_count": 27,
   "id": "805252d0",
   "metadata": {},
   "outputs": [],
   "source": [
    "chat = Chat(pairs, reflections)"
   ]
  },
  {
   "cell_type": "markdown",
   "id": "59c72881",
   "metadata": {},
   "source": [
    "### Start conversation"
   ]
  },
  {
   "cell_type": "code",
   "execution_count": 31,
   "id": "f4947036",
   "metadata": {},
   "outputs": [
    {
     "name": "stdout",
     "output_type": "stream",
     "text": [
      ">hi\n",
      "Hey there\n",
      ">I am Azal\n",
      "nice to hear\n",
      ">Who created you\n",
      "Azal Ahmad Khan created me\n",
      ">quit\n",
      "Bye, see you soon\n"
     ]
    }
   ],
   "source": [
    "chat.converse()"
   ]
  }
 ],
 "metadata": {
  "kernelspec": {
   "display_name": "Python 3",
   "language": "python",
   "name": "python3"
  },
  "language_info": {
   "codemirror_mode": {
    "name": "ipython",
    "version": 3
   },
   "file_extension": ".py",
   "mimetype": "text/x-python",
   "name": "python",
   "nbconvert_exporter": "python",
   "pygments_lexer": "ipython3",
   "version": "3.9.5"
  }
 },
 "nbformat": 4,
 "nbformat_minor": 5
}
